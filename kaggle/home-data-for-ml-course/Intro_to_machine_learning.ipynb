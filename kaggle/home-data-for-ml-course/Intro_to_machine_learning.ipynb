{
 "metadata": {
  "language_info": {
   "codemirror_mode": {
    "name": "ipython",
    "version": 3
   },
   "file_extension": ".py",
   "mimetype": "text/x-python",
   "name": "python",
   "nbconvert_exporter": "python",
   "pygments_lexer": "ipython3",
   "version": "3.8.10"
  },
  "orig_nbformat": 4,
  "kernelspec": {
   "name": "python3",
   "display_name": "Python 3.8.10 64-bit ('base': conda)"
  },
  "interpreter": {
   "hash": "b1586f758073ba41f1a938ae741df919ec12401bb61157ad2336d90c057b4302"
  }
 },
 "nbformat": 4,
 "nbformat_minor": 2,
 "cells": [
  {
   "cell_type": "code",
   "execution_count": 2,
   "metadata": {},
   "outputs": [],
   "source": [
    "import pandas as pd  \n",
    "\n",
    "home_data = pd.read_csv(\"train.csv\")\n",
    "# We use the read_csv() function to read data from the data file we need to import for our ml model"
   ]
  },
  {
   "cell_type": "code",
   "execution_count": 3,
   "metadata": {},
   "outputs": [
    {
     "output_type": "stream",
     "name": "stdout",
     "text": [
      "Index(['Id', 'MSSubClass', 'MSZoning', 'LotFrontage', 'LotArea', 'Street',\n       'Alley', 'LotShape', 'LandContour', 'Utilities', 'LotConfig',\n       'LandSlope', 'Neighborhood', 'Condition1', 'Condition2', 'BldgType',\n       'HouseStyle', 'OverallQual', 'OverallCond', 'YearBuilt', 'YearRemodAdd',\n       'RoofStyle', 'RoofMatl', 'Exterior1st', 'Exterior2nd', 'MasVnrType',\n       'MasVnrArea', 'ExterQual', 'ExterCond', 'Foundation', 'BsmtQual',\n       'BsmtCond', 'BsmtExposure', 'BsmtFinType1', 'BsmtFinSF1',\n       'BsmtFinType2', 'BsmtFinSF2', 'BsmtUnfSF', 'TotalBsmtSF', 'Heating',\n       'HeatingQC', 'CentralAir', 'Electrical', '1stFlrSF', '2ndFlrSF',\n       'LowQualFinSF', 'GrLivArea', 'BsmtFullBath', 'BsmtHalfBath', 'FullBath',\n       'HalfBath', 'BedroomAbvGr', 'KitchenAbvGr', 'KitchenQual',\n       'TotRmsAbvGrd', 'Functional', 'Fireplaces', 'FireplaceQu', 'GarageType',\n       'GarageYrBlt', 'GarageFinish', 'GarageCars', 'GarageArea', 'GarageQual',\n       'GarageCond', 'PavedDrive', 'WoodDeckSF', 'OpenPorchSF',\n       'EnclosedPorch', '3SsnPorch', 'ScreenPorch', 'PoolArea', 'PoolQC',\n       'Fence', 'MiscFeature', 'MiscVal', 'MoSold', 'YrSold', 'SaleType',\n       'SaleCondition', 'SalePrice'],\n      dtype='object')\n"
     ]
    }
   ],
   "source": [
    "# We first examine the data for the output data (y) we want to train for our model\n",
    "\n",
    "print (home_data.columns)"
   ]
  },
  {
   "cell_type": "code",
   "execution_count": 4,
   "metadata": {},
   "outputs": [
    {
     "output_type": "stream",
     "name": "stdout",
     "text": [
      "<class 'pandas.core.series.Series'>\n"
     ]
    }
   ],
   "source": [
    "# Now we know that SalePrice is the outcome (prediction) so we use the data from this 'SalePrice' Column as a label_training (Y)\n",
    "\n",
    "y = home_data.SalePrice # We can use [] also instead of .\n",
    "\n",
    "print (type(y)) # Here the return datatype is pandas Series"
   ]
  },
  {
   "cell_type": "code",
   "execution_count": 5,
   "metadata": {},
   "outputs": [],
   "source": [
    "# Now we must create the features_train for the training set which is denoted as x\n",
    "\n",
    "features_column = ['LotArea',\n",
    "     'YearBuilt',\n",
    "     '1stFlrSF',\n",
    "     '2ndFlrSF',\n",
    "     'FullBath',\n",
    "     'BedroomAbvGr',\n",
    "    'TotRmsAbvGrd']\n",
    "\n",
    "x = home_data[features_column] # Now we got the specific data we intend to use as training features (input) (x)"
   ]
  },
  {
   "cell_type": "code",
   "execution_count": 6,
   "metadata": {},
   "outputs": [
    {
     "output_type": "execute_result",
     "data": {
      "text/plain": [
       "DecisionTreeRegressor(random_state=1)"
      ]
     },
     "metadata": {},
     "execution_count": 6
    }
   ],
   "source": [
    "from sklearn.tree import DecisionTreeRegressor # we use DecisionTreeRegressor as our model\n",
    "model = DecisionTreeRegressor(random_state = 1)\n",
    "model.fit(x,y) # Traing the model"
   ]
  },
  {
   "cell_type": "code",
   "execution_count": 7,
   "metadata": {},
   "outputs": [
    {
     "output_type": "stream",
     "name": "stdout",
     "text": [
      "[208500. 181500. 223500. 140000. 250000.]\n"
     ]
    }
   ],
   "source": [
    "pred = model.predict(x) # Here prediction using the same data we use in training\n",
    "print (pred[0:5]) # we want to print the first 5"
   ]
  },
  {
   "cell_type": "code",
   "execution_count": 8,
   "metadata": {},
   "outputs": [
    {
     "output_type": "execute_result",
     "data": {
      "text/plain": [
       "0    208500\n",
       "1    181500\n",
       "2    223500\n",
       "3    140000\n",
       "4    250000\n",
       "Name: SalePrice, dtype: int64"
      ]
     },
     "metadata": {},
     "execution_count": 8
    }
   ],
   "source": [
    "# Let compare with y we used in training\n",
    "\n",
    "y.head()"
   ]
  },
  {
   "cell_type": "code",
   "execution_count": 9,
   "metadata": {},
   "outputs": [
    {
     "output_type": "execute_result",
     "data": {
      "text/plain": [
       "0    True\n",
       "1    True\n",
       "2    True\n",
       "3    True\n",
       "4    True\n",
       "Name: SalePrice, dtype: bool"
      ]
     },
     "metadata": {},
     "execution_count": 9
    }
   ],
   "source": [
    "pred[0:5] == y.head() # Here we can see all True because we use the same dataset we train in prediction step"
   ]
  },
  {
   "cell_type": "code",
   "execution_count": 10,
   "metadata": {},
   "outputs": [
    {
     "output_type": "stream",
     "name": "stdout",
     "text": [
      "Index(['Id', 'MSSubClass', 'MSZoning', 'LotFrontage', 'LotArea', 'Street',\n       'Alley', 'LotShape', 'LandContour', 'Utilities', 'LotConfig',\n       'LandSlope', 'Neighborhood', 'Condition1', 'Condition2', 'BldgType',\n       'HouseStyle', 'OverallQual', 'OverallCond', 'YearBuilt', 'YearRemodAdd',\n       'RoofStyle', 'RoofMatl', 'Exterior1st', 'Exterior2nd', 'MasVnrType',\n       'MasVnrArea', 'ExterQual', 'ExterCond', 'Foundation', 'BsmtQual',\n       'BsmtCond', 'BsmtExposure', 'BsmtFinType1', 'BsmtFinSF1',\n       'BsmtFinType2', 'BsmtFinSF2', 'BsmtUnfSF', 'TotalBsmtSF', 'Heating',\n       'HeatingQC', 'CentralAir', 'Electrical', '1stFlrSF', '2ndFlrSF',\n       'LowQualFinSF', 'GrLivArea', 'BsmtFullBath', 'BsmtHalfBath', 'FullBath',\n       'HalfBath', 'BedroomAbvGr', 'KitchenAbvGr', 'KitchenQual',\n       'TotRmsAbvGrd', 'Functional', 'Fireplaces', 'FireplaceQu', 'GarageType',\n       'GarageYrBlt', 'GarageFinish', 'GarageCars', 'GarageArea', 'GarageQual',\n       'GarageCond', 'PavedDrive', 'WoodDeckSF', 'OpenPorchSF',\n       'EnclosedPorch', '3SsnPorch', 'ScreenPorch', 'PoolArea', 'PoolQC',\n       'Fence', 'MiscFeature', 'MiscVal', 'MoSold', 'YrSold', 'SaleType',\n       'SaleCondition'],\n      dtype='object')\n"
     ]
    }
   ],
   "source": [
    "# Let try with another one\n",
    "test = \"test.csv\"\n",
    "\n",
    "test_data = pd.read_csv(test)\n",
    "\n",
    "print (test_data.columns) # we check the dataframe\n"
   ]
  },
  {
   "cell_type": "code",
   "execution_count": 11,
   "metadata": {},
   "outputs": [],
   "source": [
    "# We extract the same input features which we would like to use as input as we train our model\n",
    "test_data_x = test_data[features_column] # we reuse the features_column which we have already declare in above"
   ]
  },
  {
   "cell_type": "code",
   "execution_count": 12,
   "metadata": {},
   "outputs": [
    {
     "output_type": "stream",
     "name": "stdout",
     "text": [
      "[ 94750. 137500. 173000. ... 157900.  93500. 225000.]\n"
     ]
    }
   ],
   "source": [
    "test_pred = model.predict(test_data_x) # Here we use the test dataset for testing how our model work on test data\n",
    "\n",
    "print (test_pred) #Here we predict"
   ]
  },
  {
   "source": [
    "# Model Validation"
   ],
   "cell_type": "markdown",
   "metadata": {}
  },
  {
   "cell_type": "code",
   "execution_count": 31,
   "metadata": {},
   "outputs": [],
   "source": [
    "# How we calculate the MAE (mean absolute error)\n",
    "# error = actual - predicted value\n",
    "# mean (error)\n",
    "\n",
    "from sklearn.metrics import mean_absolute_error"
   ]
  },
  {
   "cell_type": "code",
   "execution_count": 32,
   "metadata": {},
   "outputs": [],
   "source": [
    "import pandas as pd  \n",
    "\n",
    "file_path = 'train.csv'\n",
    "train_input_data = pd.read_csv(file_path)\n",
    "# Data cleaning step\n",
    "# cleaned_train_input_data = train_input_data.dropna(axis=0) # droping or removing the missing values from specified column\n",
    "# we can use with dropna(axis = 0,inplace = True) which would change the original dataframe "
   ]
  },
  {
   "cell_type": "code",
   "execution_count": 33,
   "metadata": {},
   "outputs": [
    {
     "output_type": "execute_result",
     "data": {
      "text/plain": [
       "Index(['Id', 'MSSubClass', 'MSZoning', 'LotFrontage', 'LotArea', 'Street',\n",
       "       'Alley', 'LotShape', 'LandContour', 'Utilities', 'LotConfig',\n",
       "       'LandSlope', 'Neighborhood', 'Condition1', 'Condition2', 'BldgType',\n",
       "       'HouseStyle', 'OverallQual', 'OverallCond', 'YearBuilt', 'YearRemodAdd',\n",
       "       'RoofStyle', 'RoofMatl', 'Exterior1st', 'Exterior2nd', 'MasVnrType',\n",
       "       'MasVnrArea', 'ExterQual', 'ExterCond', 'Foundation', 'BsmtQual',\n",
       "       'BsmtCond', 'BsmtExposure', 'BsmtFinType1', 'BsmtFinSF1',\n",
       "       'BsmtFinType2', 'BsmtFinSF2', 'BsmtUnfSF', 'TotalBsmtSF', 'Heating',\n",
       "       'HeatingQC', 'CentralAir', 'Electrical', '1stFlrSF', '2ndFlrSF',\n",
       "       'LowQualFinSF', 'GrLivArea', 'BsmtFullBath', 'BsmtHalfBath', 'FullBath',\n",
       "       'HalfBath', 'BedroomAbvGr', 'KitchenAbvGr', 'KitchenQual',\n",
       "       'TotRmsAbvGrd', 'Functional', 'Fireplaces', 'FireplaceQu', 'GarageType',\n",
       "       'GarageYrBlt', 'GarageFinish', 'GarageCars', 'GarageArea', 'GarageQual',\n",
       "       'GarageCond', 'PavedDrive', 'WoodDeckSF', 'OpenPorchSF',\n",
       "       'EnclosedPorch', '3SsnPorch', 'ScreenPorch', 'PoolArea', 'PoolQC',\n",
       "       'Fence', 'MiscFeature', 'MiscVal', 'MoSold', 'YrSold', 'SaleType',\n",
       "       'SaleCondition', 'SalePrice'],\n",
       "      dtype='object')"
      ]
     },
     "metadata": {},
     "execution_count": 33
    }
   ],
   "source": [
    "train_input_data.columns # By this way we can check the columns name in our dataset so we can select which one for features and which one as label data"
   ]
  },
  {
   "cell_type": "code",
   "execution_count": 34,
   "metadata": {},
   "outputs": [
    {
     "output_type": "stream",
     "name": "stdout",
     "text": [
      "[208500. 181500. 223500. 140000. 250000.]\n0    208500\n1    181500\n2    223500\n3    140000\n4    250000\nName: SalePrice, dtype: int64\n"
     ]
    }
   ],
   "source": [
    "# Bulding Dataset for model training (x,y)\n",
    "features_col = ['LotArea', 'YearBuilt', '1stFlrSF', '2ndFlrSF', 'FullBath', 'BedroomAbvGr', 'TotRmsAbvGrd']\n",
    "\n",
    "training_features = train_input_data[features_col]\n",
    "training_labels = train_input_data.SalePrice\n",
    "\n",
    "# Define the model\n",
    "\n",
    "from sklearn.tree import DecisionTreeRegressor\n",
    "the_model = DecisionTreeRegressor()\n",
    "\n",
    "# Training Step\n",
    "the_model.fit(training_features,training_labels)\n",
    "\n",
    "# Prediction \n",
    "pred = the_model.predict(training_features.head())\n",
    "print (pred)\n",
    "\n",
    "actual = training_labels.head()\n",
    "print (actual)\n",
    "\n",
    "# We use the training dataset as a test set without splitting ( Overfitting)"
   ]
  },
  {
   "source": [
    "# Validation Data verses Test Data"
   ],
   "cell_type": "markdown",
   "metadata": {}
  },
  {
   "cell_type": "code",
   "execution_count": 35,
   "metadata": {},
   "outputs": [],
   "source": [
    "# refers to a sample of the dataset held back (reserve) from training the model\n",
    "# train test split approach\n",
    "# hyperparameter (validation)\n",
    "# final evaluating (test)\n",
    "\n",
    "# Validation set : A set of examples used to tune the parameters of a classifier, for example to choose the number of hidden units in a neural network.\n",
    "\n",
    "# Test set : A set of examples used only to assess the performance of a fully-specified classifier."
   ]
  },
  {
   "source": [
    "# Train Test Split"
   ],
   "cell_type": "markdown",
   "metadata": {}
  },
  {
   "cell_type": "code",
   "execution_count": 36,
   "metadata": {},
   "outputs": [
    {
     "output_type": "stream",
     "name": "stdout",
     "text": [
      "32478.07123287671\n"
     ]
    }
   ],
   "source": [
    "from sklearn.model_selection import train_test_split\n",
    "\n",
    "train_x,val_x,train_y,val_y = train_test_split(training_features,training_labels,random_state=0) # random state make sure we get the same split every time we run this script\n",
    "\n",
    "model = DecisionTreeRegressor()\n",
    "model.fit(train_x,train_y)\n",
    "\n",
    "# Getting prediction ( predictied price ) on validation dataset\n",
    "\n",
    "val_pred = model.predict(val_x)\n",
    "print (mean_absolute_error(val_y,val_pred)) # We validate the model using MAE from sklean and we can see the avgerage difference for each sample in our data"
   ]
  },
  {
   "source": [
    "# Model Optimization"
   ],
   "cell_type": "markdown",
   "metadata": {}
  },
  {
   "cell_type": "code",
   "execution_count": 54,
   "metadata": {},
   "outputs": [
    {
     "output_type": "stream",
     "name": "stdout",
     "text": [
      "The MAE is 35044 \t\t at tree brach of 5\nThe MAE is 31585 \t\t at tree brach of 10\nThe MAE is 29016 \t\t at tree brach of 25\nThe MAE is 27405 \t\t at tree brach of 50\nThe MAE is 27282 \t\t at tree brach of 100\nThe MAE is 27417 \t\t at tree brach of 150\nThe MAE is 28135 \t\t at tree brach of 200\nThe MAE is 27893 \t\t at tree brach of 250\n"
     ]
    }
   ],
   "source": [
    "import pandas as pd\n",
    "from sklearn.model_selection import train_test_split\n",
    "from sklearn.tree import DecisionTreeRegressor\n",
    "from sklearn.metrics import mean_absolute_error\n",
    "\n",
    "the_dataset = pd.read_csv('train.csv')\n",
    "\n",
    "features = ['LotArea', 'YearBuilt', '1stFlrSF', '2ndFlrSF', 'FullBath', 'BedroomAbvGr', 'TotRmsAbvGrd']\n",
    "x = the_dataset[features]\n",
    "y = the_dataset.SalePrice\n",
    "\n",
    "train_x,val_x,train_y,val_y = train_test_split(x,y,random_state=1)\n",
    "\n",
    "# function for getting MAE\n",
    "def get_mae(branch,train_x,val_x,train_y,val_y):\n",
    "    model = DecisionTreeRegressor(max_leaf_nodes=branch,random_state = 0)\n",
    "    model.fit(train_x,train_y)\n",
    "    val_pred = model.predict(val_x)\n",
    "    mae = mean_absolute_error(val_y,val_pred)\n",
    "    return mae\n",
    "\n",
    "# Evaluating the right tree brach for lower MAE \n",
    "# The lower the MAE the more accurate for prediction.\n",
    "tree_branch = [5,10,25,50,100,150,200,250]\n",
    "for i in tree_branch:\n",
    "    the_result = get_mae(i,train_x,val_x,train_y,val_y)\n",
    "    print (\"The MAE is %d \\t\\t at tree brach of %d\" %(the_result,i))\n"
   ]
  },
  {
   "cell_type": "code",
   "execution_count": 60,
   "metadata": {},
   "outputs": [
    {
     "output_type": "stream",
     "name": "stdout",
     "text": [
      "5\n100\n"
     ]
    }
   ],
   "source": [
    "# This is dictionary comprehension\n",
    "# We muse define key : value pair for every return output from the loop\n",
    "# the_optimal_num as key\n",
    "# get_mae as value\n",
    "\n",
    "scores = {the_optimal_num: get_mae(the_optimal_num,train_x,val_x,train_y,val_y) for the_optimal_num in tree_branch}\n",
    "\n",
    "# When we use \n",
    "the_best_tree_size = min(scores)\n",
    "print (the_best_tree_size) # we can see that min() function apply on the key of the dictionary\n",
    "\n",
    "# We need to get the score which value is the minimum among all of the values\n",
    "the_best_tree_size = min(scores, key=scores.get)\n",
    "print (the_best_tree_size)"
   ]
  }
 ]
}